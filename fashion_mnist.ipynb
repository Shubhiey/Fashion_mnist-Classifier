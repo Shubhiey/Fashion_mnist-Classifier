{
 "cells": [
  {
   "cell_type": "code",
   "execution_count": 0,
   "metadata": {
    "colab": {},
    "colab_type": "code",
    "id": "ifDlpTNYdh_s"
   },
   "outputs": [],
   "source": [
    "from tensorflow import keras\n",
    "import matplotlib.pyplot as plt\n",
    "import numpy as np"
   ]
  },
  {
   "cell_type": "code",
   "execution_count": null,
   "metadata": {
    "colab": {
     "base_uri": "https://localhost:8080/",
     "height": 164
    },
    "colab_type": "code",
    "id": "ZGEkupvDdlem",
    "outputId": "e54614b2-ba01-4c92-9622-a16f904c78d0"
   },
   "outputs": [],
   "source": [
    "data = keras.datasets.fashion_mnist\n",
    "(X_train, Y_train), (X_test, Y_test) = data.load_data()"
   ]
  },
  {
   "cell_type": "code",
   "execution_count": null,
   "metadata": {
    "colab": {
     "base_uri": "https://localhost:8080/",
     "height": 92
    },
    "colab_type": "code",
    "id": "LMFKZHJOdsfa",
    "outputId": "97144945-00a3-480a-d953-e89ea06696c3"
   },
   "outputs": [],
   "source": [
    "model = keras.Sequential([\n",
    "                          keras.layers.Flatten(input_shape=(28,28)),\n",
    "                          keras.layers.Dense(128, activation=\"relu\"),\n",
    "                          keras.layers.Dense(10, activation=\"softmax\")\n",
    "])"
   ]
  },
  {
   "cell_type": "code",
   "execution_count": 0,
   "metadata": {
    "colab": {},
    "colab_type": "code",
    "id": "IGkQygm2e1TC"
   },
   "outputs": [],
   "source": [
    "model.compile(optimizer=\"adam\", loss=\"sparse_categorical_crossentropy\", metrics=[\"accuracy\"])"
   ]
  },
  {
   "cell_type": "code",
   "execution_count": null,
   "metadata": {
    "colab": {
     "base_uri": "https://localhost:8080/",
     "height": 311
    },
    "colab_type": "code",
    "id": "PBRLSnnSfXRo",
    "outputId": "2fb84cb9-78d8-40af-9549-4949cf87315d"
   },
   "outputs": [],
   "source": [
    "model.fit(X_train, Y_train, epochs=7)"
   ]
  },
  {
   "cell_type": "code",
   "execution_count": null,
   "metadata": {
    "colab": {
     "base_uri": "https://localhost:8080/",
     "height": 35
    },
    "colab_type": "code",
    "id": "ul2D02RjfhDF",
    "outputId": "238eef0b-fb3e-44a2-af3f-c586e9fbc9be"
   },
   "outputs": [],
   "source": [
    "loss, acc = model.evaluate(X_test, Y_test)"
   ]
  },
  {
   "cell_type": "code",
   "execution_count": null,
   "metadata": {
    "colab": {
     "base_uri": "https://localhost:8080/",
     "height": 35
    },
    "colab_type": "code",
    "id": "RAEHqXPOfzce",
    "outputId": "2b011dec-6717-4f25-f713-17a79f8185da"
   },
   "outputs": [],
   "source": [
    "print (acc)"
   ]
  },
  {
   "cell_type": "code",
   "execution_count": null,
   "metadata": {
    "colab": {
     "base_uri": "https://localhost:8080/",
     "height": 265
    },
    "colab_type": "code",
    "id": "7WtgMpBLf3Lg",
    "outputId": "eccbbc45-0c4a-474e-f37a-8bc6679eccde"
   },
   "outputs": [],
   "source": [
    "plt.imshow(X_test[56])# Plotting a random image from the dataset(here 56)\n",
    "plt.show()"
   ]
  },
  {
   "cell_type": "code",
   "execution_count": null,
   "metadata": {
    "colab": {
     "base_uri": "https://localhost:8080/",
     "height": 35
    },
    "colab_type": "code",
    "id": "Hvaj7wfyhBc-",
    "outputId": "6c82ddeb-df67-446f-cb6e-9c045cb502fd"
   },
   "outputs": [],
   "source": [
    "res = model.predict([[X_test[56]]]) #Testing for a random image from the dataset(here 56)\n",
    "pred=np.argmax(res)\n",
    "print(\"Predicted: \"+str(pred)+\" Actual: \"+str(Y_test[56]))"
   ]
  },
  {
   "cell_type": "code",
   "execution_count": 0,
   "metadata": {
    "colab": {},
    "colab_type": "code",
    "id": "VHzpbf_4hgVG"
   },
   "outputs": [],
   "source": []
  }
 ],
 "metadata": {
  "colab": {
   "collapsed_sections": [],
   "name": "fashion_mnist.ipynb",
   "provenance": []
  },
  "kernelspec": {
   "display_name": "Python 3",
   "language": "python",
   "name": "python3"
  },
  "language_info": {
   "codemirror_mode": {
    "name": "ipython",
    "version": 3
   },
   "file_extension": ".py",
   "mimetype": "text/x-python",
   "name": "python",
   "nbconvert_exporter": "python",
   "pygments_lexer": "ipython3",
   "version": "3.7.0"
  }
 },
 "nbformat": 4,
 "nbformat_minor": 1
}
